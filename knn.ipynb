{
 "cells": [
  {
   "cell_type": "code",
   "execution_count": 1,
   "metadata": {},
   "outputs": [],
   "source": [
    "import matplotlib.pyplot as plt\n",
    "import numpy as np\n",
    "import scipy\n",
    "import pandas as pd\n",
    "import csv\n",
    "from datetime import datetime\n",
    "import time\n",
    "import math"
   ]
  },
  {
   "cell_type": "code",
   "execution_count": 2,
   "metadata": {},
   "outputs": [],
   "source": [
    "def stamp_to_time(s):\n",
    "\td=datetime.strptime(s,\"%Y-%m-%d %H:%M:%S\")\n",
    "\tt=time.mktime(d.timetuple())\n",
    "\treturn t\n",
    "#similarity function\n",
    "def similarity(vector1, vector2):\n",
    "\ta=np.array(vector1)\n",
    "\tb=np.array(vector2)\n",
    "\teuclid = math.sqrt(np.sum(((a - b)**2)))\n",
    "\treturn euclid\n",
    "\n",
    "#normalized similarity function\n",
    "def similarity_normalized(vector1,vector2):\n",
    "\ta=np.array(vector1)\n",
    "\tb=np.array(vector2)\n",
    "\ta=a/math.sqrt(np.sum(a**2))\n",
    "\tb=b/math.sqrt(np.sum(b**2))\n",
    "\t#print(a)\n",
    "\t#print(b)\n",
    "\t#print(a-b)\n",
    "\teuclid = math.sqrt(np.sum(((a - b)**2)))\n",
    "\treturn euclid\n"
   ]
  },
  {
   "cell_type": "code",
   "execution_count": 3,
   "metadata": {},
   "outputs": [],
   "source": [
    "def encoder(station_id):\n",
    "    num=map_stations[station_id]\n",
    "    encod=[0 for i in range(len(map_stations))]\n",
    "    encod[num]=1\n",
    "    map_stations[station_id]=encod\n",
    " "
   ]
  },
  {
   "cell_type": "code",
   "execution_count": 4,
   "metadata": {},
   "outputs": [],
   "source": [
    "map_stations={'28079004':0,'28079008':1,'28079011':2,'28079016':3,\n",
    "          '28079017':4,'28079018':5,'28079024':6,'28079027':7,\n",
    "         '28079035':8,'28079036':9,'28079038':10,'28079039':11,\n",
    "         '28079040':12,'28079047':13,'28079048':14,'28079049':15,\n",
    "         '28079050':16,'28079054':17,'28079055':18,'28079056':19,\n",
    "         '28079057':20,'28079058':21,'28079059':22,'28079060':23}\n",
    "\n",
    "for key,val in map_stations.items():\n",
    "    encoder(key)"
   ]
  },
  {
   "cell_type": "code",
   "execution_count": 5,
   "metadata": {},
   "outputs": [
    {
     "data": {
      "text/plain": [
       "82800.0"
      ]
     },
     "execution_count": 5,
     "metadata": {},
     "output_type": "execute_result"
    }
   ],
   "source": [
    "init_time_2016=stamp_to_time(\"2016-01-01 0:0:0\")\n",
    "init_time_2017=stamp_to_time(\"2017-01-01 0:0:0\")\n",
    "stamp_to_time(\"2017-01-01 23:0:0\")-init_time_2017"
   ]
  },
  {
   "cell_type": "code",
   "execution_count": 6,
   "metadata": {},
   "outputs": [],
   "source": [
    "data_1=[]\n",
    "data_2=[]"
   ]
  },
  {
   "cell_type": "code",
   "execution_count": 7,
   "metadata": {
    "scrolled": true
   },
   "outputs": [
    {
     "name": "stdout",
     "output_type": "stream",
     "text": [
      "CSV Loaded\n"
     ]
    }
   ],
   "source": [
    "reader=csv.reader(open('madrid_2015.csv','r'))\n",
    "print(\"CSV Loaded\")\n",
    "for row in reader:\n",
    "    if(row[0]!='date' and stamp_to_time(row[0])==init_time_2016):\n",
    "        temp=[(stamp_to_time(row[0])-init_time_2016)]\n",
    "        temp+=map_stations[row[13]]\n",
    "        temp+=row[1:8]\n",
    "        temp+=row[10:13]\n",
    "        temp+=row[8:10] #target_variables\n",
    "        temp=np.array(temp)\n",
    "        np.place(temp,temp=='',np.nan)\n",
    "        for val in range(len(temp)):\n",
    "            if(temp[val]!='nan'):\n",
    "                temp[val]=float(temp[val])\n",
    "        #print(temp)\n",
    "        data_1.append(temp)     "
   ]
  },
  {
   "cell_type": "code",
   "execution_count": 8,
   "metadata": {},
   "outputs": [
    {
     "name": "stdout",
     "output_type": "stream",
     "text": [
      "CSV Loaded\n"
     ]
    }
   ],
   "source": [
    "reader=csv.reader(open('madrid_2016.csv','r'))\n",
    "print(\"CSV Loaded\")\n",
    "for row in reader:\n",
    "    if(row[0]!='date'):\n",
    "        temp=[(stamp_to_time(row[0])-init_time_2016)]\n",
    "        temp+=map_stations[row[13]]\n",
    "        temp+=row[1:8]\n",
    "        temp+=row[10:13]\n",
    "        temp+=row[8:10] #target_variables\n",
    "        temp=np.array(temp)\n",
    "        np.place(temp,temp=='',np.nan)\n",
    "        #print(temp)\n",
    "        for val in range(len(temp)):\n",
    "            if(temp[val]!='nan'):\n",
    "                temp[val]=float(temp[val])\n",
    "        data_1.append(temp)"
   ]
  },
  {
   "cell_type": "code",
   "execution_count": 9,
   "metadata": {},
   "outputs": [],
   "source": [
    "data_1=np.array(data_1)"
   ]
  },
  {
   "cell_type": "code",
   "execution_count": 10,
   "metadata": {},
   "outputs": [
    {
     "name": "stdout",
     "output_type": "stream",
     "text": [
      "CSV Loaded\n"
     ]
    }
   ],
   "source": [
    "reader=csv.reader(open('madrid_2017.csv','r'))\n",
    "print(\"CSV Loaded\")\n",
    "for row in reader:\n",
    "    if(row[0]!='date' and (stamp_to_time(row[0])-init_time_2017<=86200)):\n",
    "        temp=[(stamp_to_time(row[0])-init_time_2016)]\n",
    "        temp+=map_stations[row[15]]\n",
    "        temp+=[row[1]]\n",
    "        temp+=row[3:8]\n",
    "        temp+=[row[9]]\n",
    "        temp+=row[12:15]\n",
    "        temp+=row[10:12] #target_variables\n",
    "        temp=np.array(temp)\n",
    "        np.place(temp,temp=='',np.nan)\n",
    "        #print(temp)\n",
    "        for val in range(len(temp)):\n",
    "            if(temp[val]!='nan'):\n",
    "                temp[val]=float(temp[val])\n",
    "        data_2.append(temp)"
   ]
  },
  {
   "cell_type": "code",
   "execution_count": 16,
   "metadata": {},
   "outputs": [
    {
     "name": "stdout",
     "output_type": "stream",
     "text": [
      "(552, 37)\n",
      "31705200.0\n"
     ]
    }
   ],
   "source": [
    "data_2=np.array(data_2)\n",
    "print(data_2.shape)"
   ]
  },
  {
   "cell_type": "code",
   "execution_count": 12,
   "metadata": {},
   "outputs": [],
   "source": [
    "data=np.concatenate((data_1,data_2),axis=0)\n",
    "data=data.astype(float)"
   ]
  },
  {
   "cell_type": "code",
   "execution_count": 17,
   "metadata": {},
   "outputs": [
    {
     "name": "stdout",
     "output_type": "stream",
     "text": [
      "8808\n"
     ]
    }
   ],
   "source": [
    "data[data[:,0].argsort()]\n",
    "print(len(np.unique(data[:,0])))"
   ]
  },
  {
   "cell_type": "code",
   "execution_count": 14,
   "metadata": {},
   "outputs": [
    {
     "name": "stdout",
     "output_type": "stream",
     "text": [
      "[1.57715373e+07 4.19284817e-02 4.19284817e-02 4.19284817e-02\n",
      " 4.19284817e-02 4.19284817e-02 3.99862904e-02 4.18142351e-02\n",
      " 4.19284817e-02 4.04432766e-02 3.94150577e-02 4.19284817e-02\n",
      " 4.19284817e-02 4.19284817e-02 4.19284817e-02 4.19284817e-02\n",
      " 4.19284817e-02 4.19284817e-02 4.19284817e-02 4.19284817e-02\n",
      " 4.19284817e-02 4.19284817e-02 4.16999886e-02 4.19284817e-02\n",
      " 4.19284817e-02 6.33736932e-01 3.55291696e-01 3.74015033e-01\n",
      " 1.24437447e-01 2.20901955e+01 3.85841962e+01 4.89811454e+01\n",
      " 7.69484020e+00 1.37202941e+00 2.56508477e+00 1.91650382e+01\n",
      " 1.04203674e+01]\n"
     ]
    }
   ],
   "source": [
    "col_mean = np.nanmean(data, axis=0)\n",
    "print(col_mean)\n",
    "inds = np.where(np.isnan(data))\n",
    "data[inds] = np.take(col_mean, inds[1])"
   ]
  },
  {
   "cell_type": "code",
   "execution_count": 18,
   "metadata": {
    "scrolled": false
   },
   "outputs": [
    {
     "name": "stdout",
     "output_type": "stream",
     "text": [
      "209500\n",
      "209510\n",
      "209520\n",
      "209530\n",
      "209540\n",
      "209550\n",
      "209560\n",
      "209570\n",
      "209580\n",
      "209590\n",
      "209600\n",
      "209610\n",
      "209620\n",
      "209630\n",
      "209640\n",
      "209650\n",
      "209660\n",
      "209670\n",
      "209680\n",
      "209690\n",
      "209700\n",
      "209710\n",
      "209720\n",
      "209730\n",
      "209740\n",
      "209750\n",
      "209760\n",
      "209770\n",
      "209780\n",
      "209790\n",
      "209800\n",
      "209810\n",
      "209820\n",
      "209830\n",
      "209840\n",
      "209850\n",
      "209860\n",
      "209870\n",
      "209880\n",
      "209890\n",
      "209900\n",
      "209910\n",
      "209920\n",
      "209930\n",
      "209940\n",
      "209950\n",
      "209960\n",
      "209970\n",
      "209980\n",
      "209990\n",
      "210000\n",
      "210010\n",
      "210020\n",
      "210030\n",
      "210040\n",
      "210050\n",
      "210060\n",
      "210070\n",
      "1217.39907193\n"
     ]
    }
   ],
   "source": [
    "#ROLLING_WINDOW\n",
    "t1=time.time()\n",
    "se_10=0.0\n",
    "se_25=0.0\n",
    "test_start=len(data)-576\n",
    "train_start=0\n",
    "k_vals=[i for i in range(1,10000)]\n",
    "k_vals_to_predict10={}\n",
    "k_vals_to_predict25={}\n",
    "for i in k_vals:\n",
    "        k_vals_to_predict10[i]=[]\n",
    "        k_vals_to_predict25[i]=[]\n",
    "while(test_start<len(data)):\n",
    "    if(test_start%10==0):\n",
    "        print(test_start)\n",
    "    neigbours=[]\n",
    "    predict_pm10=0.0\n",
    "    predict_pm25=0.0\n",
    "    for i in range(train_start,test_start):\n",
    "        tup=(similarity(data[i,1:-2],data[test_start,1:-2]),i)\n",
    "        neigbours.append(tup)\n",
    "    \n",
    "    neigbours=sorted(neigbours)\n",
    "    for k in range(max(k_vals)+1):\n",
    "        \n",
    "        predict_pm10+=data[neigbours[k][1]][35]\n",
    "        predict_pm25+=data[neigbours[k][1]][36]    \n",
    "        if(k in k_vals):\n",
    "            k_vals_to_predict10[k].append(predict_pm10/k)\n",
    "            k_vals_to_predict25[k].append(predict_pm25/k)\n",
    "    test_start+=1\n",
    "    train_start+=1\n",
    "print(time.time()-t1)"
   ]
  },
  {
   "cell_type": "code",
   "execution_count": 46,
   "metadata": {},
   "outputs": [
    {
     "name": "stdout",
     "output_type": "stream",
     "text": [
      "7.30531550087\n",
      "(array([118]),)\n"
     ]
    },
    {
     "data": {
      "image/png": "[encoded data removed]",
      "text/plain": [
       "<Figure size 432x288 with 1 Axes>"
      ]
     },
     "metadata": {
      "needs_background": "light"
     },
     "output_type": "display_data"
    }
   ],
   "source": [
    "#ROLLING WINDOW RMSE VS K for PM10\n",
    "from sklearn.metrics import mean_squared_error\n",
    "x_plot=[]\n",
    "rmse=[]\n",
    "for key,val in (sorted(k_vals_to_predict10.items())):\n",
    "    x_plot.append(key)\n",
    "    rmse.append(math.sqrt(mean_squared_error(val,data[-576:,35])))\n",
    "plt.xlabel('k')\n",
    "plt.ylabel('RMSE')\n",
    "plt.title('RMSE v Neighbours : PM10 - Rolling Window')\n",
    "\n",
    "plt.plot(x_plot[100:200],rmse[100:200])\n",
    "plt.savefig('rolling_10_zoomed.png')\n",
    "print(min(rmse))\n",
    "print(np.where(rmse==np.min(rmse)))"
   ]
  },
  {
   "cell_type": "code",
   "execution_count": 49,
   "metadata": {},
   "outputs": [
    {
     "name": "stdout",
     "output_type": "stream",
     "text": [
      "7.11323933817\n",
      "(array([4]),)\n"
     ]
    },
    {
     "data": {
      "image/png": "[encoded data removed]",
      "text/plain": [
       "<Figure size 432x288 with 1 Axes>"
      ]
     },
     "metadata": {
      "needs_background": "light"
     },
     "output_type": "display_data"
    }
   ],
   "source": [
    "#ROLLING WINDOW RMSE VS K for PM25\n",
    "from sklearn.metrics import mean_squared_error\n",
    "x_plot=[]\n",
    "rmse=[]\n",
    "for key,val in (sorted(k_vals_to_predict25.items())):\n",
    "    x_plot.append(key)\n",
    "    rmse.append(math.sqrt(mean_squared_error(val,data[-576:,36])))\n",
    "plt.xlabel('k')\n",
    "plt.ylabel('RMSE')\n",
    "plt.title('RMSE v Neighbours : PM25 - Rolling Window')\n",
    "\n",
    "plt.plot(x_plot[:10],rmse[:10])\n",
    "plt.savefig('rolling_25_zoomed.png')\n",
    "print(min(rmse))\n",
    "print(np.where(rmse==np.min(rmse)))"
   ]
  },
  {
   "cell_type": "code",
   "execution_count": 21,
   "metadata": {},
   "outputs": [
    {
     "name": "stdout",
     "output_type": "stream",
     "text": [
      "209500\n",
      "209510\n",
      "209520\n",
      "209530\n",
      "209540\n",
      "209550\n",
      "209560\n",
      "209570\n",
      "209580\n",
      "209590\n",
      "209600\n",
      "209610\n",
      "209620\n",
      "209630\n",
      "209640\n",
      "209650\n",
      "209660\n",
      "209670\n",
      "209680\n",
      "209690\n",
      "209700\n",
      "209710\n",
      "209720\n",
      "209730\n",
      "209740\n",
      "209750\n",
      "209760\n",
      "209770\n",
      "209780\n",
      "209790\n",
      "209800\n",
      "209810\n",
      "209820\n",
      "209830\n",
      "209840\n",
      "209850\n",
      "209860\n",
      "209870\n",
      "209880\n",
      "209890\n",
      "209900\n",
      "209910\n",
      "209920\n",
      "209930\n",
      "209940\n",
      "209950\n",
      "209960\n",
      "209970\n",
      "209980\n",
      "209990\n",
      "210000\n",
      "210010\n",
      "210020\n",
      "210030\n",
      "210040\n",
      "210050\n",
      "210060\n",
      "210070\n",
      "1307.1829679\n"
     ]
    }
   ],
   "source": [
    "#RECURSIVE_WINDOW\n",
    "t1=time.time()\n",
    "se_10=0.0\n",
    "se_25=0.0\n",
    "test_start=len(data)-576\n",
    "train_start=0\n",
    "k_vals=[i for i in range(1,10000)]\n",
    "k_vals_to_predict10_rec={}\n",
    "k_vals_to_predict25_rec={}\n",
    "for i in k_vals:\n",
    "        k_vals_to_predict10_rec[i]=[]\n",
    "        k_vals_to_predict25_rec[i]=[]\n",
    "while(test_start<len(data)):\n",
    "    if(test_start%10==0):\n",
    "        print(test_start)\n",
    "    neigbours=[]\n",
    "    predict_pm10=0.0\n",
    "    predict_pm25=0.0\n",
    "    for i in range(train_start,test_start):\n",
    "        tup=(similarity(data[i,1:-2],data[test_start,1:-2]),i)\n",
    "        neigbours.append(tup)\n",
    "    \n",
    "    neigbours=sorted(neigbours)\n",
    "    for k in range(max(k_vals)+1):\n",
    "        \n",
    "        predict_pm10+=data[neigbours[k][1]][35]\n",
    "        predict_pm25+=data[neigbours[k][1]][36]    \n",
    "        \n",
    "        if(k in k_vals):\n",
    "            k_vals_to_predict10_rec[k].append(predict_pm10/k)\n",
    "            k_vals_to_predict25_rec[k].append(predict_pm25/k)\n",
    "    test_start+=1\n",
    "    #train_start+=1\n",
    "print(time.time()-t1)"
   ]
  },
  {
   "cell_type": "code",
   "execution_count": 50,
   "metadata": {},
   "outputs": [
    {
     "name": "stdout",
     "output_type": "stream",
     "text": [
      "7.30645223908\n",
      "(array([117]),)\n"
     ]
    },
    {
     "data": {
      "image/png": "[encoded data removed]",
      "text/plain": [
       "<Figure size 432x288 with 1 Axes>"
      ]
     },
     "metadata": {
      "needs_background": "light"
     },
     "output_type": "display_data"
    }
   ],
   "source": [
    "#RECURSIVE WINDOW RMSE VS K for PM10\n",
    "from sklearn.metrics import mean_squared_error\n",
    "x_plot=[]\n",
    "rmse=[]\n",
    "for key,val in (sorted(k_vals_to_predict10_rec.items())):\n",
    "    \n",
    "    x_plot.append(key)\n",
    "    rmse.append(math.sqrt(mean_squared_error(val,data[-576:,35])))\n",
    "plt.xlabel('k')\n",
    "plt.ylabel('RMSE')\n",
    "plt.title('RMSE v Neighbours : PM10 - Recursive Window')\n",
    "\n",
    "plt.plot(x_plot[100:200],rmse[100:200])\n",
    "plt.savefig('recursive_10_zoomed.png')\n",
    "print(min(rmse))\n",
    "print(np.where(rmse==np.min(rmse)))"
   ]
  },
  {
   "cell_type": "code",
   "execution_count": 51,
   "metadata": {},
   "outputs": [
    {
     "name": "stdout",
     "output_type": "stream",
     "text": [
      "7.10487585445\n",
      "(array([4]),)\n"
     ]
    },
    {
     "data": {
      "image/png": "[encoded data removed]",
      "text/plain": [
       "<Figure size 432x288 with 1 Axes>"
      ]
     },
     "metadata": {
      "needs_background": "light"
     },
     "output_type": "display_data"
    }
   ],
   "source": [
    "#RECURSIVE WINDOW RMSE VS K for PM25\n",
    "from sklearn.metrics import mean_squared_error\n",
    "x_plot=[]\n",
    "rmse=[]\n",
    "for key,val in (sorted(k_vals_to_predict25_rec.items())):\n",
    "\n",
    "    x_plot.append(key)\n",
    "    rmse.append(math.sqrt(mean_squared_error(val,data[-576:,36])))\n",
    "plt.xlabel('k')\n",
    "plt.ylabel('RMSE')\n",
    "plt.title('RMSE v Neighbours : PM25 - Recursive Window')\n",
    "\n",
    "plt.plot(x_plot[:10],rmse[:10])\n",
    "plt.savefig('recursive_25_zoomed.png')\n",
    "print(min(rmse))\n",
    "print(np.where(rmse==np.min(rmse)))"
   ]
  },
  {
   "cell_type": "code",
   "execution_count": 24,
   "metadata": {},
   "outputs": [
    {
     "name": "stdout",
     "output_type": "stream",
     "text": [
      "209500\n",
      "209510\n",
      "209520\n",
      "209530\n",
      "209540\n",
      "209550\n",
      "209560\n",
      "209570\n",
      "209580\n",
      "209590\n",
      "209600\n",
      "209610\n",
      "209620\n",
      "209630\n",
      "209640\n",
      "209650\n",
      "209660\n",
      "209670\n",
      "209680\n",
      "209690\n",
      "209700\n",
      "209710\n",
      "209720\n",
      "209730\n",
      "209740\n",
      "209750\n",
      "209760\n",
      "209770\n",
      "209780\n",
      "209790\n",
      "209800\n",
      "209810\n",
      "209820\n",
      "209830\n",
      "209840\n",
      "209850\n",
      "209860\n",
      "209870\n",
      "209880\n",
      "209890\n",
      "209900\n",
      "209910\n",
      "209920\n",
      "209930\n",
      "209940\n",
      "209950\n",
      "209960\n",
      "209970\n",
      "209980\n",
      "209990\n",
      "210000\n",
      "210010\n",
      "210020\n",
      "210030\n",
      "210040\n",
      "210050\n",
      "210060\n",
      "210070\n",
      "2305.70786905\n"
     ]
    }
   ],
   "source": [
    "#ROLLING_WINDOW_NORMALIZED\n",
    "t1=time.time()\n",
    "se_10=0.0\n",
    "se_25=0.0\n",
    "test_start=len(data)-576\n",
    "train_start=0\n",
    "k_vals=[i for i in range(1,10000)]\n",
    "k_vals_to_predict10n={}\n",
    "k_vals_to_predict25n={}\n",
    "for i in k_vals:\n",
    "        k_vals_to_predict10n[i]=[]\n",
    "        k_vals_to_predict25n[i]=[]\n",
    "while(test_start<len(data)):\n",
    "    if(test_start%10==0):\n",
    "        print(test_start)\n",
    "    neigbours=[]\n",
    "    predict_pm10=0.0\n",
    "    predict_pm25=0.0\n",
    "    for i in range(train_start,test_start):\n",
    "        tup=(similarity_normalized(data[i,1:-2],data[test_start,1:-2]),i)\n",
    "        neigbours.append(tup)\n",
    "    \n",
    "    neigbours=sorted(neigbours)\n",
    "    for k in range(max(k_vals)+1):\n",
    "       \n",
    "        predict_pm10+=data[neigbours[k][1]][35]\n",
    "        predict_pm25+=data[neigbours[k][1]][36]    \n",
    "        \n",
    "        if(k in k_vals):\n",
    "            \n",
    "            k_vals_to_predict10n[k].append(predict_pm10/k)\n",
    "            k_vals_to_predict25n[k].append(predict_pm25/k)\n",
    "            \n",
    "    test_start+=1\n",
    "    train_start+=1\n",
    "print(time.time()-t1)"
   ]
  },
  {
   "cell_type": "code",
   "execution_count": 52,
   "metadata": {},
   "outputs": [
    {
     "name": "stdout",
     "output_type": "stream",
     "text": [
      "7.13086551318\n",
      "(array([312]),)\n"
     ]
    },
    {
     "data": {
      "image/png": "[encoded data removed]",
      "text/plain": [
       "<Figure size 432x288 with 1 Axes>"
      ]
     },
     "metadata": {
      "needs_background": "light"
     },
     "output_type": "display_data"
    }
   ],
   "source": [
    "#ROLLING WINDOW RMSE VS K for PM10 NORMALIZED\n",
    "from sklearn.metrics import mean_squared_error\n",
    "x_plot=[]\n",
    "rmse=[]\n",
    "for key,val in (sorted(k_vals_to_predict10n.items())):\n",
    "    x_plot.append(key)\n",
    "    rmse.append(math.sqrt(mean_squared_error(val,data[-576:,35])))\n",
    "plt.xlabel('k')\n",
    "plt.ylabel('RMSE')\n",
    "plt.title('RMSE v Neighbours : PM10 - Rolling Window with normalization')\n",
    "plt.plot(x_plot[300:400],rmse[300:400])\n",
    "plt.savefig('rolling_10_norm_zoomed.png')\n",
    "\n",
    "print(min(rmse))\n",
    "print(np.where(rmse==np.min(rmse)))"
   ]
  },
  {
   "cell_type": "code",
   "execution_count": 53,
   "metadata": {},
   "outputs": [
    {
     "name": "stdout",
     "output_type": "stream",
     "text": [
      "7.09783664371\n",
      "(array([4]),)\n"
     ]
    },
    {
     "data": {
      "image/png": "[encoded data removed]",
      "text/plain": [
       "<Figure size 432x288 with 1 Axes>"
      ]
     },
     "metadata": {
      "needs_background": "light"
     },
     "output_type": "display_data"
    }
   ],
   "source": [
    "#ROLLING WINDOW RMSE VS K for PM25 NORMALIZED\n",
    "from sklearn.metrics import mean_squared_error\n",
    "x_plot=[]\n",
    "rmse=[]\n",
    "for key,val in (sorted(k_vals_to_predict25n.items())):\n",
    "    x_plot.append(key)\n",
    "    rmse.append(math.sqrt(mean_squared_error(val,data[-576:,36])))\n",
    "plt.xlabel('k')\n",
    "plt.ylabel('RMSE')\n",
    "plt.title('RMSE v Neighbours : PM25 - Rolling Window with normalization')\n",
    "plt.plot(x_plot[:10],rmse[:10])\n",
    "plt.savefig('rolling_25_norm_zoomed.png')\n",
    "\n",
    "print(min(rmse))\n",
    "print(np.where(rmse==np.min(rmse)))"
   ]
  },
  {
   "cell_type": "code",
   "execution_count": 32,
   "metadata": {},
   "outputs": [
    {
     "name": "stdout",
     "output_type": "stream",
     "text": [
      "209500\n",
      "209510\n",
      "209520\n",
      "209530\n",
      "209540\n",
      "209550\n",
      "209560\n",
      "209570\n",
      "209580\n",
      "209590\n",
      "209600\n",
      "209610\n",
      "209620\n",
      "209630\n",
      "209640\n",
      "209650\n",
      "209660\n",
      "209670\n",
      "209680\n",
      "209690\n",
      "209700\n",
      "209710\n",
      "209720\n",
      "209730\n",
      "209740\n",
      "209750\n",
      "209760\n",
      "209770\n",
      "209780\n",
      "209790\n",
      "209800\n",
      "209810\n",
      "209820\n",
      "209830\n",
      "209840\n",
      "209850\n",
      "209860\n",
      "209870\n",
      "209880\n",
      "209890\n",
      "209900\n",
      "209910\n",
      "209920\n",
      "209930\n",
      "209940\n",
      "209950\n",
      "209960\n",
      "209970\n",
      "209980\n",
      "209990\n",
      "210000\n",
      "210010\n",
      "210020\n",
      "210030\n",
      "210040\n",
      "210050\n",
      "210060\n",
      "210070\n",
      "4135.27698517\n"
     ]
    }
   ],
   "source": [
    "#RECURSIVE_WINDOW NORMALIZED\n",
    "t1=time.time()\n",
    "se_10=0.0\n",
    "se_25=0.0\n",
    "test_start=len(data)-576\n",
    "train_start=0\n",
    "k_vals=[i for i in range(1,10000)]\n",
    "k_vals_to_predict10_recn={}\n",
    "k_vals_to_predict25_recn={}\n",
    "for i in k_vals:\n",
    "        k_vals_to_predict10_recn[i]=[]\n",
    "        k_vals_to_predict25_recn[i]=[]\n",
    "while(test_start<len(data)):\n",
    "    if(test_start%10==0):\n",
    "        print(test_start)\n",
    "    neigbours=[]\n",
    "    predict_pm10=0.0\n",
    "    predict_pm25=0.0\n",
    "    for i in range(train_start,test_start):\n",
    "        tup=(similarity_normalized(data[i,1:-2],data[test_start,1:-2]),i)\n",
    "        neigbours.append(tup)\n",
    "    \n",
    "    neigbours=sorted(neigbours)\n",
    "    for k in range(max(k_vals)+1):\n",
    "       \n",
    "        predict_pm10+=data[neigbours[k][1]][35]\n",
    "        predict_pm25+=data[neigbours[k][1]][36]    \n",
    "        \n",
    "        if(k in k_vals):\n",
    "            k_vals_to_predict10_recn[k].append(predict_pm10/k)\n",
    "            k_vals_to_predict25_recn[k].append(predict_pm25/k)\n",
    "            \n",
    "    test_start+=1\n",
    "    #train_start+=1\n",
    "print(time.time()-t1)"
   ]
  },
  {
   "cell_type": "code",
   "execution_count": 54,
   "metadata": {},
   "outputs": [
    {
     "name": "stdout",
     "output_type": "stream",
     "text": [
      "7.13205041643\n",
      "(array([312]),)\n"
     ]
    },
    {
     "data": {
      "image/png": "[encoded data removed]",
      "text/plain": [
       "<Figure size 432x288 with 1 Axes>"
      ]
     },
     "metadata": {
      "needs_background": "light"
     },
     "output_type": "display_data"
    }
   ],
   "source": [
    "#RECURSIVE WINDOW RMSE VS K for PM10 NORMALIZED\n",
    "from sklearn.metrics import mean_squared_error\n",
    "x_plot=[]\n",
    "rmse=[]\n",
    "for key,val in (sorted(k_vals_to_predict10_recn.items())):\n",
    "    \n",
    "    x_plot.append(key)\n",
    "    rmse.append(math.sqrt(mean_squared_error(val,data[-576:,35])))\n",
    "plt.xlabel('k')\n",
    "plt.ylabel('RMSE')\n",
    "plt.title('RMSE v Neighbours : PM10 - Recursive Window with Normalization')\n",
    "plt.plot(x_plot[300:400],rmse[300:400])\n",
    "plt.savefig('recursive_10_norm_zoomed.png')\n",
    "\n",
    "print(min(rmse))\n",
    "print(np.where(rmse==np.min(rmse)))"
   ]
  },
  {
   "cell_type": "code",
   "execution_count": 55,
   "metadata": {},
   "outputs": [
    {
     "name": "stdout",
     "output_type": "stream",
     "text": [
      "7.08436009968\n",
      "(array([4]),)\n"
     ]
    },
    {
     "data": {
      "image/png": "[encoded data removed]",
      "text/plain": [
       "<Figure size 432x288 with 1 Axes>"
      ]
     },
     "metadata": {
      "needs_background": "light"
     },
     "output_type": "display_data"
    }
   ],
   "source": [
    "#RECURSIVE WINDOW RMSE VS K for PM25 NORMALIZED\n",
    "from sklearn.metrics import mean_squared_error\n",
    "x_plot=[]\n",
    "rmse=[]\n",
    "for key,val in (sorted(k_vals_to_predict25_recn.items())):\n",
    "\n",
    "    x_plot.append(key)\n",
    "    rmse.append(math.sqrt(mean_squared_error(val,data[-576:,36])))\n",
    "plt.xlabel('k')\n",
    "plt.ylabel('RMSE')\n",
    "plt.title('RMSE v Neighbours : PM25 - Recursive Window with Normalization')\n",
    "plt.plot(x_plot[:10],rmse[:10])\n",
    "plt.savefig('recursive_25_norm_zoomed.png')\n",
    "print(min(rmse))\n",
    "print(np.where(rmse==np.min(rmse)))"
   ]
  },
  {
   "cell_type": "code",
   "execution_count": null,
   "metadata": {},
   "outputs": [],
   "source": []
  }
 ],
 "metadata": {
  "kernelspec": {
   "display_name": "Python 2",
   "language": "python",
   "name": "python2"
  },
  "language_info": {
   "codemirror_mode": {
    "name": "ipython",
    "version": 2
   },
   "file_extension": ".py",
   "mimetype": "text/x-python",
   "name": "python",
   "nbconvert_exporter": "python",
   "pygments_lexer": "ipython2",
   "version": "2.7.15rc1"
  }
 },
 "nbformat": 4,
 "nbformat_minor": 2
}
